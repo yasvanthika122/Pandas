{
  "cells": [
    {
      "cell_type": "markdown",
      "metadata": {
        "id": "view-in-github",
        "colab_type": "text"
      },
      "source": [
        "<a href=\"https://colab.research.google.com/github/yasvanthika122/Pandas/blob/main/Numpy.ipynb\" target=\"_parent\"><img src=\"https://colab.research.google.com/assets/colab-badge.svg\" alt=\"Open In Colab\"/></a>"
      ]
    },
    {
      "cell_type": "code",
      "execution_count": 1,
      "metadata": {
        "colab": {
          "base_uri": "https://localhost:8080/"
        },
        "id": "vGn_PPBbZblY",
        "outputId": "ef941d04-5623-4256-a377-a3f7fbbb7e99"
      },
      "outputs": [
        {
          "output_type": "stream",
          "name": "stdout",
          "text": [
            "[1, 2, 3]\n"
          ]
        }
      ],
      "source": [
        "l1=[1,2,3]\n",
        "print(l1)"
      ]
    },
    {
      "cell_type": "code",
      "execution_count": 2,
      "metadata": {
        "colab": {
          "base_uri": "https://localhost:8080/"
        },
        "id": "NVgwEAFlcNpr",
        "outputId": "5f878ed1-f45a-4518-d7e9-80b350b91007"
      },
      "outputs": [
        {
          "output_type": "stream",
          "name": "stdout",
          "text": [
            "[1, 2, 3, 2]\n"
          ]
        }
      ],
      "source": [
        "l1=[1,2,3]\n",
        "l2=[3,4,5]\n",
        "l1.append(2)\n",
        "print(l1)\n"
      ]
    },
    {
      "cell_type": "code",
      "execution_count": 3,
      "metadata": {
        "colab": {
          "base_uri": "https://localhost:8080/"
        },
        "id": "-tDD4Ji0cp0R",
        "outputId": "fecd01f3-9d68-4cdb-be4e-912305df0e96"
      },
      "outputs": [
        {
          "output_type": "stream",
          "name": "stdout",
          "text": [
            "[(1, 2, 3)]\n"
          ]
        }
      ],
      "source": [
        "li = []\n",
        "tup= (1, 2, 3)\n",
        "li.append(tup)\n",
        "print(li)\n"
      ]
    },
    {
      "cell_type": "code",
      "execution_count": 4,
      "metadata": {
        "id": "FklfOIFXc5La",
        "colab": {
          "base_uri": "https://localhost:8080/"
        },
        "outputId": "4797a923-fc88-48b9-80ef-d5ef4ed2929e"
      },
      "outputs": [
        {
          "output_type": "stream",
          "name": "stdout",
          "text": [
            "[2, 3, 4, [7, 8]]\n"
          ]
        }
      ],
      "source": [
        "l1=[2,3,4]\n",
        "l2=[7,8]\n",
        "l1.append(l2)\n",
        "print(l1)\n"
      ]
    },
    {
      "cell_type": "code",
      "execution_count": 5,
      "metadata": {
        "id": "3S6AqEZLdu8K"
      },
      "outputs": [],
      "source": [
        "import numpy as np\n"
      ]
    },
    {
      "cell_type": "code",
      "execution_count": 6,
      "metadata": {
        "id": "Ylaq2AoVeBvN",
        "colab": {
          "base_uri": "https://localhost:8080/"
        },
        "outputId": "bcd3a344-08d6-49e4-b77b-a5c69a2f6bd7"
      },
      "outputs": [
        {
          "output_type": "stream",
          "name": "stdout",
          "text": [
            "(5,)\n"
          ]
        }
      ],
      "source": [
        "arr = np.array([1, 2, 3, 4, 5])\n",
        "shape=arr.shape\n",
        "print(shape)"
      ]
    },
    {
      "cell_type": "code",
      "execution_count": 7,
      "metadata": {
        "id": "ClGJ6hbMez7y",
        "colab": {
          "base_uri": "https://localhost:8080/"
        },
        "outputId": "c709b856-61f2-4a9e-e690-d372c27c789f"
      },
      "outputs": [
        {
          "output_type": "stream",
          "name": "stdout",
          "text": [
            "<class 'numpy.ndarray'>\n"
          ]
        }
      ],
      "source": [
        "print(type(arr))\n"
      ]
    },
    {
      "cell_type": "code",
      "execution_count": 8,
      "metadata": {
        "id": "EqZ9gSHdfsfn",
        "colab": {
          "base_uri": "https://localhost:8080/"
        },
        "outputId": "5b58d116-f94f-456a-8a7a-5c5b2fc56535"
      },
      "outputs": [
        {
          "output_type": "execute_result",
          "data": {
            "text/plain": [
              "array([[1., 1.],\n",
              "       [1., 1.],\n",
              "       [1., 1.]])"
            ]
          },
          "metadata": {},
          "execution_count": 8
        }
      ],
      "source": [
        "np.ones((3,2))"
      ]
    },
    {
      "cell_type": "code",
      "execution_count": 9,
      "metadata": {
        "id": "TyLJ2em2f31Y",
        "colab": {
          "base_uri": "https://localhost:8080/"
        },
        "outputId": "d45de107-3725-4407-bae3-4f1f51073a8e"
      },
      "outputs": [
        {
          "output_type": "execute_result",
          "data": {
            "text/plain": [
              "array([[0., 0., 0., 0.],\n",
              "       [0., 0., 0., 0.],\n",
              "       [0., 0., 0., 0.]])"
            ]
          },
          "metadata": {},
          "execution_count": 9
        }
      ],
      "source": [
        "np.zeros((3,4))"
      ]
    },
    {
      "cell_type": "code",
      "execution_count": 10,
      "metadata": {
        "id": "TlQOvFkTf-cg",
        "colab": {
          "base_uri": "https://localhost:8080/"
        },
        "outputId": "162ec60b-0300-415a-f016-05be995070ab"
      },
      "outputs": [
        {
          "output_type": "execute_result",
          "data": {
            "text/plain": [
              "array([[[0.44585221, 0.72528866],\n",
              "        [0.08338081, 0.69987627],\n",
              "        [0.26633055, 0.20076319]],\n",
              "\n",
              "       [[0.12271122, 0.22595564],\n",
              "        [0.71647443, 0.1774901 ],\n",
              "        [0.56079069, 0.83690873]],\n",
              "\n",
              "       [[0.02166364, 0.82420176],\n",
              "        [0.0632959 , 0.17777124],\n",
              "        [0.72885239, 0.98438976]],\n",
              "\n",
              "       [[0.62270947, 0.51902037],\n",
              "        [0.16958784, 0.27286359],\n",
              "        [0.3520446 , 0.67023262]]])"
            ]
          },
          "metadata": {},
          "execution_count": 10
        }
      ],
      "source": [
        "np.random.random((4,3,2))"
      ]
    },
    {
      "cell_type": "code",
      "execution_count": 11,
      "metadata": {
        "id": "p5imGVQOgMPg",
        "colab": {
          "base_uri": "https://localhost:8080/"
        },
        "outputId": "5e38ab28-0a1b-4937-84db-902435ab9eb3"
      },
      "outputs": [
        {
          "output_type": "execute_result",
          "data": {
            "text/plain": [
              "array([[7, 7, 7, 7],\n",
              "       [7, 7, 7, 7]])"
            ]
          },
          "metadata": {},
          "execution_count": 11
        }
      ],
      "source": [
        "np.full((2,4),7)"
      ]
    },
    {
      "cell_type": "code",
      "execution_count": 12,
      "metadata": {
        "id": "8tOk1AvZgcV8",
        "colab": {
          "base_uri": "https://localhost:8080/"
        },
        "outputId": "b4dd4ccd-a7ca-44f6-99b1-160d8e7a8f21"
      },
      "outputs": [
        {
          "output_type": "execute_result",
          "data": {
            "text/plain": [
              "array([[1., 0.],\n",
              "       [0., 1.]])"
            ]
          },
          "metadata": {},
          "execution_count": 12
        }
      ],
      "source": [
        "np.eye(2)"
      ]
    },
    {
      "cell_type": "code",
      "execution_count": 13,
      "metadata": {
        "id": "ceQQuLMDgq_u",
        "colab": {
          "base_uri": "https://localhost:8080/"
        },
        "outputId": "14c71805-c0c1-4e81-dd12-6027aff808fd"
      },
      "outputs": [
        {
          "output_type": "stream",
          "name": "stdout",
          "text": [
            "[10 15 20 25 30 35 40 45]\n"
          ]
        }
      ],
      "source": [
        "f=np.arange(10,50,5)\n",
        "print(f)"
      ]
    },
    {
      "cell_type": "code",
      "execution_count": 14,
      "metadata": {
        "id": "OW6F7BNchLdR",
        "colab": {
          "base_uri": "https://localhost:8080/"
        },
        "outputId": "16544ba1-79e1-411d-c61c-cac842458078"
      },
      "outputs": [
        {
          "output_type": "execute_result",
          "data": {
            "text/plain": [
              "array([90, 93, 96, 99])"
            ]
          },
          "metadata": {},
          "execution_count": 14
        }
      ],
      "source": [
        "np.arange(90,100,3)"
      ]
    },
    {
      "cell_type": "code",
      "execution_count": 15,
      "metadata": {
        "id": "W-87pzkuheqN",
        "colab": {
          "base_uri": "https://localhost:8080/"
        },
        "outputId": "003f812f-03db-431b-b173-1426747d4f46"
      },
      "outputs": [
        {
          "output_type": "execute_result",
          "data": {
            "text/plain": [
              "array([0.  , 0.25, 0.5 , 0.75, 1.  ])"
            ]
          },
          "metadata": {},
          "execution_count": 15
        }
      ],
      "source": [
        "np.linspace(0, 1, num=5)"
      ]
    },
    {
      "cell_type": "code",
      "execution_count": 16,
      "metadata": {
        "id": "4JmAj2uniFIL",
        "colab": {
          "base_uri": "https://localhost:8080/"
        },
        "outputId": "c5d86cd6-68dc-47d2-fb32-10cf752238ff"
      },
      "outputs": [
        {
          "output_type": "execute_result",
          "data": {
            "text/plain": [
              "array([ 9.        ,  9.54545455, 10.09090909, 10.63636364, 11.18181818,\n",
              "       11.72727273, 12.27272727, 12.81818182, 13.36363636, 13.90909091,\n",
              "       14.45454545, 15.        ])"
            ]
          },
          "metadata": {},
          "execution_count": 16
        }
      ],
      "source": [
        "np.linspace(9,15,num=12)"
      ]
    },
    {
      "cell_type": "code",
      "execution_count": 17,
      "metadata": {
        "id": "5wAWla1qiaXD",
        "colab": {
          "base_uri": "https://localhost:8080/"
        },
        "outputId": "f4961967-594f-4c97-805e-21e464cf5a81"
      },
      "outputs": [
        {
          "output_type": "stream",
          "name": "stdout",
          "text": [
            "(1, 2, 3, 4, 5)\n",
            "1\n",
            "(3, 4, 5)\n"
          ]
        }
      ],
      "source": [
        "arr=(1,2,3,4,5)\n",
        "print(arr)\n",
        "print(arr[0])\n",
        "print(arr[2:])"
      ]
    },
    {
      "cell_type": "code",
      "execution_count": 18,
      "metadata": {
        "id": "owc__fO1iv_s",
        "colab": {
          "base_uri": "https://localhost:8080/"
        },
        "outputId": "4aebb28a-c113-438b-8b22-089d04f51bf1"
      },
      "outputs": [
        {
          "output_type": "stream",
          "name": "stdout",
          "text": [
            "[[1 2]\n",
            " [2 3]\n",
            " [6 7]]\n",
            "2\n",
            "[[2 3]\n",
            " [6 7]]\n",
            "[1 2]\n"
          ]
        }
      ],
      "source": [
        "a=np.array([[1,2],[2,3],[6,7]])\n",
        "print(a)\n",
        "print(a[0,1])\n",
        "print(a[1:3])\n",
        "\n",
        "print(a[0:2,0])\n"
      ]
    },
    {
      "cell_type": "code",
      "execution_count": 19,
      "metadata": {
        "id": "CNMVRcpZlyni",
        "colab": {
          "base_uri": "https://localhost:8080/"
        },
        "outputId": "bbeec9c7-3d5e-4b7b-8887-32be80d24a07"
      },
      "outputs": [
        {
          "output_type": "stream",
          "name": "stdout",
          "text": [
            "[[3 4 5 1]\n",
            " [1 2 3 9]\n",
            " [9 4 3 1]]\n",
            "\n",
            "[1 2 3 9]\n",
            "\n",
            "[[3 4 5 1]\n",
            " [1 2 3 9]]\n",
            "\n",
            "[[1 2 3 9]]\n"
          ]
        }
      ],
      "source": [
        "a=np.array([[3,4,5,1],[1,2,3,9],[9,4,3,1]])\n",
        "print(a)\n",
        "print()\n",
        "\n",
        "r1=a[1,:]\n",
        "print(r1)\n",
        "print()\n",
        "\n",
        "r2=a[0:2,:]\n",
        "print(r2)\n",
        "print()\n",
        "\n",
        "r3=a[[1],:]\n",
        "print(r3)"
      ]
    },
    {
      "cell_type": "code",
      "execution_count": 20,
      "metadata": {
        "id": "DyJ15aHQoO3t",
        "colab": {
          "base_uri": "https://localhost:8080/"
        },
        "outputId": "ed7574fd-bde5-4eb3-dd5f-3726ef37a0d0"
      },
      "outputs": [
        {
          "output_type": "stream",
          "name": "stdout",
          "text": [
            "[[3 4 5 1]\n",
            " [1 2 3 9]\n",
            " [9 4 3 1]]\n",
            "\n",
            "[4 2 4]\n",
            "\n",
            "[[3 4]\n",
            " [1 2]\n",
            " [9 4]]\n",
            "\n",
            "[[4]\n",
            " [2]\n",
            " [4]]\n"
          ]
        }
      ],
      "source": [
        "a=np.array([[3,4,5,1],[1,2,3,9],[9,4,3,1]])\n",
        "print(a)\n",
        "print()\n",
        "\n",
        "c1=a[:,1]\n",
        "print(c1)\n",
        "print()\n",
        "\n",
        "c2=a[:,0:2]\n",
        "print(c2)\n",
        "print()\n",
        "\n",
        "c3=a[:,[1]]\n",
        "print(c3)"
      ]
    }
  ],
  "metadata": {
    "colab": {
      "provenance": [],
      "authorship_tag": "ABX9TyMI+ErRntCmtB1/M/sH7rm0",
      "include_colab_link": true
    },
    "kernelspec": {
      "display_name": "Python 3",
      "name": "python3"
    },
    "language_info": {
      "name": "python"
    }
  },
  "nbformat": 4,
  "nbformat_minor": 0
}